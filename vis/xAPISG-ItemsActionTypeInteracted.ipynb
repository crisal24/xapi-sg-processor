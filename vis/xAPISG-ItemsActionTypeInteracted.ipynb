{
 "cells": [
  {
   "cell_type": "markdown",
   "source": [
    "***vis_items_action_type_times* function**:\n",
    "* Input: players_info dictionary\n",
    "* Displays bar chart showing for each item the number of each action type by players"
   ],
   "metadata": {
    "collapsed": false
   }
  },
  {
   "cell_type": "code",
   "execution_count": 3,
   "outputs": [],
   "source": [
    "def vis_items_action_type_interacted_times(players_info):\n",
    "    # find full list of items\n",
    "    items=set()\n",
    "    for player in players_info.keys():\n",
    "        for type in players_info[player][\"action_type_interaction\"].keys():\n",
    "            if players_info[player][\"action_type_interaction\"][type] != {}:                \n",
    "                items = items.union(players_info[player][\"action_type_interaction\"][type].keys())\n",
    "    items = list(items)\n",
    "\n",
    "    # nber of item actiontype per player\n",
    "    nbitems={}\n",
    "    for item in items:\n",
    "        nbitems[item]={}\n",
    "        for player in players_info.keys():\n",
    "            nb=0\n",
    "            for type in players_info[player][\"action_type_interaction\"].keys():\n",
    "                if item in players_info[player][\"action_type_interaction\"][type].keys():\n",
    "                    for action_type in players_info[player][\"action_type_interaction\"][type][item]:\n",
    "                        if not action_type in nbitems[item].keys():\n",
    "                            nbitems[item][action_type]={}\n",
    "                        if not player in nbitems[item][action_type].keys():\n",
    "                            nbitems[item][action_type][player]=0\n",
    "                        nbitems[item][action_type][player]+=len(players_info[player][\"action_type_interaction\"][type][item][action_type])\n",
    "    \n",
    "    ## Multiple bar chart showing the items selected for each personn.\n",
    "    number_of_plots = len(nbitems)\n",
    "    nbplayer=len(players_info.keys())\n",
    "    if nbplayer!=0 and number_of_plots>0:\n",
    "        i = 0\n",
    "        for item in nbitems.keys():\n",
    "            j=0\n",
    "            for action_type in nbitems[item].keys():\n",
    "                if(j==0):\n",
    "                    plt.bar(range(len(nbitems[item][action_type])), \n",
    "                               nbitems[item][action_type].values(),\n",
    "                               label=action_type,\n",
    "                               tick_label=list(nbitems[item][action_type].keys()))\n",
    "                    botom=list(nbitems[item][action_type].values())\n",
    "                else:\n",
    "                    plt.bar(range(len(nbitems[item][action_type])), \n",
    "                               nbitems[item][action_type].values(),\n",
    "                               label=action_type,\n",
    "                               tick_label=list(nbitems[item][action_type].keys()), \n",
    "                                bottom=botom)\n",
    "                    temp=botom\n",
    "                    l=list(nbitems[item][action_type].values())\n",
    "                    botom=[temp[i]+l[i] for i in range(0,min(len(temp),len(l)))]\n",
    "                j+=1\n",
    "            plt.legend(loc='center left', bbox_to_anchor=(1, 0.5))\n",
    "            plt.xticks(rotation=90)\n",
    "            plt.title('Interaction with '+item+\" by action_type\")\n",
    "            plt.xlabel(\"Players\")\n",
    "            plt.ylabel(\"Numbers of interaction\")\n",
    "            plt.show()\n",
    "    else:\n",
    "        plt.text(0.5, 5,\n",
    "              \"There is no data to fill the visualization.\",\n",
    "                fontsize=10,\n",
    "                ha='center')\n",
    "        plt.ylim(0,10)\n",
    "        plt.gca().axes.xaxis.set_ticklabels([])\n",
    "        plt.gca().axes.yaxis.set_ticklabels([])\n",
    "        plt.title(\"Interaction with item by action_tyme\")\n",
    "        plt.xlabel(\"Players\")\n",
    "        plt.ylabel(\"Numbers of interaction\")\n",
    "        plt.show()\n",
    "        "
   ],
   "metadata": {
    "collapsed": false,
    "pycharm": {
     "name": "#%%\n",
     "is_executing": false
    }
   }
  },
  {
   "cell_type": "code",
   "execution_count": null,
   "outputs": [],
   "source": [
    "\n"
   ],
   "metadata": {
    "collapsed": false,
    "pycharm": {
     "name": "#%%\n"
    }
   }
  }
 ],
 "metadata": {
  "kernelspec": {
   "display_name": "Python 3",
   "language": "python",
   "name": "python3"
  },
  "language_info": {
   "codemirror_mode": {
    "name": "ipython",
    "version": 2
   },
   "file_extension": ".py",
   "mimetype": "text/x-python",
   "name": "python",
   "nbconvert_exporter": "python",
   "pygments_lexer": "ipython2",
   "version": "2.7.6"
  },
  "pycharm": {
   "stem_cell": {
    "cell_type": "raw",
    "source": [],
    "metadata": {
     "collapsed": false
    }
   }
  }
 },
 "nbformat": 4,
 "nbformat_minor": 0
}